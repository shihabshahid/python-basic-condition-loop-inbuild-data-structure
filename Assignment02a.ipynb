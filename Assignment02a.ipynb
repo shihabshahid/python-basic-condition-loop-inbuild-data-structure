{
 "cells": [
  {
   "cell_type": "markdown",
   "id": "3aa00baa",
   "metadata": {},
   "source": [
    "# Python Conditions:"
   ]
  },
  {
   "cell_type": "markdown",
   "id": "35292861",
   "metadata": {},
   "source": [
    "1. Take values of the length & breadth of a rectangle from user input and check if it is square or not."
   ]
  },
  {
   "cell_type": "code",
   "execution_count": 1,
   "id": "261468c2",
   "metadata": {},
   "outputs": [
    {
     "name": "stdout",
     "output_type": "stream",
     "text": [
      "type length: 5\n",
      "type breadth: 6\n",
      "It is not square\n"
     ]
    }
   ],
   "source": [
    "length = float(input(\"type length: \"))\n",
    "breadth = float(input(\"type breadth: \"))\n",
    "if length==breadth:\n",
    "    print(\"It is square\")\n",
    "else:\n",
    "    print(\"It is not square\")"
   ]
  },
  {
   "cell_type": "markdown",
   "id": "1fddd532",
   "metadata": {},
   "source": [
    "2. Take three integer values from the user and print the greatest among them."
   ]
  },
  {
   "cell_type": "code",
   "execution_count": 2,
   "id": "6528bb3b",
   "metadata": {},
   "outputs": [
    {
     "name": "stdout",
     "output_type": "stream",
     "text": [
      "type number 1: 5\n",
      "type number 2: 7\n",
      "type number 3: 3\n",
      "7.0  is the greatest among them.\n"
     ]
    }
   ],
   "source": [
    "number1 = float(input(\"type number 1: \"))\n",
    "number2 = float(input(\"type number 2: \"))\n",
    "number3 = float(input(\"type number 3: \"))\n",
    "if number1>number2:\n",
    "    if number1>number3:\n",
    "        print(number1,\" is the greatest among them.\")\n",
    "    else:\n",
    "        print(number3,\" is the greatest among them.\")\n",
    "else:\n",
    "    if number2>number3:\n",
    "        print(number2,\" is the greatest among them.\")\n",
    "    else:\n",
    "        print(number3,\" is the greatest among them.\")"
   ]
  },
  {
   "cell_type": "markdown",
   "id": "5032e447",
   "metadata": {},
   "source": [
    "3. A student will not be allowed to sit in an exam if his/her attendance is less than 75%."
   ]
  },
  {
   "cell_type": "code",
   "execution_count": 3,
   "id": "85f8e3ba",
   "metadata": {},
   "outputs": [
    {
     "name": "stdout",
     "output_type": "stream",
     "text": [
      "type total number of class (Integer): 50\n",
      "type attended number of class (Integer): 20\n",
      "he/she is not allowed to sit in an exam\n"
     ]
    }
   ],
   "source": [
    "total_class = int(input(\"type total number of class (Integer): \"))\n",
    "attend_class = int(input(\"type attended number of class (Integer): \"))\n",
    "attendance=(attend_class/total_class)*100\n",
    "if attendance>=75.00:\n",
    "    print(\"he/she is allowed to sit in an exam\")\n",
    "else:\n",
    "    print(\"he/she is not allowed to sit in an exam\")"
   ]
  },
  {
   "cell_type": "markdown",
   "id": "d2d72c8d",
   "metadata": {},
   "source": [
    "4. A school has the following rules for the grading system:\n",
    "Below 25 – F, 25 to 44 – E, 45 to 49 – D, 50 to 59 – C, 60 to 79 – B, 80 to 89 - A, Above 90 - A+\n",
    "Now, Ask the user to enter marks and print the corresponding grade."
   ]
  },
  {
   "cell_type": "code",
   "execution_count": 4,
   "id": "05bba909",
   "metadata": {},
   "outputs": [
    {
     "name": "stdout",
     "output_type": "stream",
     "text": [
      "type marks: 56\n",
      "Grade:  C\n"
     ]
    }
   ],
   "source": [
    "marks = float(input(\"type marks: \"))\n",
    "grade = ''\n",
    "if marks>=90:\n",
    "    grade = 'A+'\n",
    "elif  marks>=80:\n",
    "    grade = 'A'\n",
    "elif  marks>=60:\n",
    "    grade = 'B'\n",
    "elif  marks>=50:\n",
    "    grade = 'C'\n",
    "elif  marks>=45:\n",
    "    grade = 'D'\n",
    "elif  marks>=25:\n",
    "    grade = 'E'\n",
    "else:\n",
    "    grade = 'F'\n",
    "print('Grade: ',grade)"
   ]
  },
  {
   "cell_type": "markdown",
   "id": "7bca6206",
   "metadata": {},
   "source": [
    "# Loop Problem:"
   ]
  },
  {
   "cell_type": "markdown",
   "id": "ad3d60c5",
   "metadata": {},
   "source": [
    "5. Print the following pattern using for and while loop.\n",
    "\n",
    "1 2 3 4 5 6 7\n",
    "1 2 3 4 5 6\n",
    "1 2 3 4 5\n",
    "1 2 3 4"
   ]
  },
  {
   "cell_type": "code",
   "execution_count": 5,
   "id": "ad2a02e6",
   "metadata": {},
   "outputs": [
    {
     "name": "stdout",
     "output_type": "stream",
     "text": [
      "1 2 3 4 5 6 7 \n",
      "1 2 3 4 5 6 \n",
      "1 2 3 4 5 \n",
      "1 2 3 4 \n"
     ]
    }
   ],
   "source": [
    "n=8\n",
    "for i in range(1,5):\n",
    "    for j in range(1,n):\n",
    "        print(j,end=' ')\n",
    "    print()\n",
    "    n=n-1"
   ]
  },
  {
   "cell_type": "code",
   "execution_count": 6,
   "id": "e682019f",
   "metadata": {},
   "outputs": [
    {
     "name": "stdout",
     "output_type": "stream",
     "text": [
      "1 2 3 4 5 6 7 \n",
      "1 2 3 4 5 6 \n",
      "1 2 3 4 5 \n",
      "1 2 3 4 \n"
     ]
    }
   ],
   "source": [
    "n=8\n",
    "i=1\n",
    "while(i<5):\n",
    "    j=1\n",
    "    while(j<n):\n",
    "        print(j,end=' ')\n",
    "        j=j+1\n",
    "    print()\n",
    "    n=n-1\n",
    "    i=i+1"
   ]
  },
  {
   "cell_type": "markdown",
   "id": "792df467",
   "metadata": {},
   "source": [
    "6. Display numbers from -100 to -10 using for loop."
   ]
  },
  {
   "cell_type": "code",
   "execution_count": 7,
   "id": "5a5eb601",
   "metadata": {},
   "outputs": [
    {
     "name": "stdout",
     "output_type": "stream",
     "text": [
      "-100 -99 -98 -97 -96 -95 -94 -93 -92 -91 -90 -89 -88 -87 -86 -85 -84 -83 -82 -81 -80 -79 -78 -77 -76 -75 -74 -73 -72 -71 -70 -69 -68 -67 -66 -65 -64 -63 -62 -61 -60 -59 -58 -57 -56 -55 -54 -53 -52 -51 -50 -49 -48 -47 -46 -45 -44 -43 -42 -41 -40 -39 -38 -37 -36 -35 -34 -33 -32 -31 -30 -29 -28 -27 -26 -25 -24 -23 -22 -21 -20 -19 -18 -17 -16 -15 -14 -13 -12 -11 -10 "
     ]
    }
   ],
   "source": [
    "j=-100\n",
    "while(j<-9):\n",
    "    print(j,end=' ')\n",
    "    j=j+1"
   ]
  },
  {
   "cell_type": "markdown",
   "id": "f0448fd7",
   "metadata": {},
   "source": [
    "7. Write a program to sum all prime numbers within a range of 10 to 1000."
   ]
  },
  {
   "cell_type": "code",
   "execution_count": 8,
   "id": "a5f97294",
   "metadata": {},
   "outputs": [
    {
     "name": "stdout",
     "output_type": "stream",
     "text": [
      "sum all prime numbers within a range of 10 to 1000:  76110\n"
     ]
    }
   ],
   "source": [
    "sum = 0\n",
    "for i in range(10,1000):\n",
    "    for j in range(2,i):\n",
    "        if i%j==0:\n",
    "            break\n",
    "    if i==j+1:\n",
    "        sum=sum+i\n",
    "print(\"sum all prime numbers within a range of 10 to 1000: \",sum)"
   ]
  },
  {
   "cell_type": "markdown",
   "id": "b32069cf",
   "metadata": {},
   "source": [
    "8. Find the factorial of an n! (Hint, n=7: 7*6*5*4*3*2*1)."
   ]
  },
  {
   "cell_type": "code",
   "execution_count": 9,
   "id": "7663859a",
   "metadata": {},
   "outputs": [
    {
     "name": "stdout",
     "output_type": "stream",
     "text": [
      "factorial of an  7 ! =  5040\n"
     ]
    }
   ],
   "source": [
    "n=7\n",
    "m=n\n",
    "sum = 1\n",
    "while(n>0):\n",
    "    sum = sum * n\n",
    "    n = n - 1\n",
    "print(\"factorial of an \",m,\"! = \",sum)"
   ]
  },
  {
   "cell_type": "markdown",
   "id": "7f0c4e8e",
   "metadata": {},
   "source": [
    "9. Reverse a given integer number 27956240710."
   ]
  },
  {
   "cell_type": "code",
   "execution_count": 10,
   "id": "20932fdd",
   "metadata": {},
   "outputs": [
    {
     "name": "stdout",
     "output_type": "stream",
     "text": [
      "Reverse  1704265972\n"
     ]
    }
   ],
   "source": [
    "n=27956240710\n",
    "r=0\n",
    "while(n>0):\n",
    "    r=r*10+n%10\n",
    "    n=int(n/10)\n",
    "print(\"Reverse \",r)"
   ]
  },
  {
   "cell_type": "markdown",
   "id": "f4d6fd96",
   "metadata": {},
   "source": [
    "10. Print the following pattern using for and while loop.\n",
    "\n",
    "# # #\n",
    "# # # #\n",
    "# # #\n",
    "# #"
   ]
  },
  {
   "cell_type": "code",
   "execution_count": 11,
   "id": "c7259310",
   "metadata": {},
   "outputs": [
    {
     "name": "stdout",
     "output_type": "stream",
     "text": [
      "# # # \n",
      "# # # # \n",
      "# # # \n",
      "# # \n"
     ]
    }
   ],
   "source": [
    "n=4\n",
    "m=n\n",
    "for i in range(1,5):\n",
    "    for j in range(1,n):\n",
    "        print(\"#\",end=' ')\n",
    "    print()\n",
    "    if(n<=4 and m<=4):\n",
    "        n=n+1\n",
    "        m=m+1\n",
    "    else:\n",
    "        n=n-1\n",
    "    "
   ]
  },
  {
   "cell_type": "markdown",
   "id": "46c3c036",
   "metadata": {},
   "source": [
    "11. Display the Fibonacci series of 15 elements using the for and while loop."
   ]
  },
  {
   "cell_type": "code",
   "execution_count": 12,
   "id": "e3ca5681",
   "metadata": {},
   "outputs": [
    {
     "name": "stdout",
     "output_type": "stream",
     "text": [
      " Fibonacci series 0 1 1 2 3 5 8 13 21 34 55 89 144 233 377 "
     ]
    }
   ],
   "source": [
    "n=1\n",
    "p=0\n",
    "f=0\n",
    "c=0\n",
    "print(\" Fibonacci series 0 1\",end=' ')\n",
    "while(c<13):\n",
    "    f=n+p\n",
    "    print(f,end=' ')\n",
    "    p=n\n",
    "    n=f\n",
    "    c=c+1"
   ]
  },
  {
   "cell_type": "markdown",
   "id": "a1e552f7",
   "metadata": {},
   "source": [
    "# Python inbuilt Data Structure:"
   ]
  },
  {
   "cell_type": "markdown",
   "id": "9238f953",
   "metadata": {},
   "source": [
    "12. Remove 2 and add 3 to the list and replace True with False.\n",
    "Li = [1,3,5, [2,3], True]\n",
    "Output = [1,3,5, [3,3], False]"
   ]
  },
  {
   "cell_type": "code",
   "execution_count": 13,
   "id": "8d95160c",
   "metadata": {},
   "outputs": [
    {
     "name": "stdout",
     "output_type": "stream",
     "text": [
      "Output =  [1, 3, 5, [3, 3], False]\n"
     ]
    }
   ],
   "source": [
    "Li = [1,3,5,[2,3],True]\n",
    "Li[3][0]=3\n",
    "Li[4]=False\n",
    "print(\"Output = \",Li)"
   ]
  },
  {
   "cell_type": "markdown",
   "id": "cd47fbce",
   "metadata": {},
   "source": [
    "13. Find the intersection (common) of two sets.\n",
    "S1 = {1,4,6,8}\n",
    "S2 = {True, 1,2,10}"
   ]
  },
  {
   "cell_type": "code",
   "execution_count": 14,
   "id": "7683f75b",
   "metadata": {},
   "outputs": [
    {
     "name": "stdout",
     "output_type": "stream",
     "text": [
      "intersection of S1 and S2 is  {True}\n"
     ]
    }
   ],
   "source": [
    "S1 = {1,4,6,8}\n",
    "S2 = {True, 1,2,10}\n",
    "S3 = S1.intersection(S2)\n",
    "print(\"intersection of S1 and S2 is \",S3)"
   ]
  },
  {
   "cell_type": "markdown",
   "id": "d236adf1",
   "metadata": {},
   "source": [
    "14. Input a list from the user then Remove duplicates from a list and create a set and find the max\n",
    "number. User_input = [1,9,3,4,5,200,54]"
   ]
  },
  {
   "cell_type": "code",
   "execution_count": 15,
   "id": "952efb15",
   "metadata": {},
   "outputs": [
    {
     "name": "stdout",
     "output_type": "stream",
     "text": [
      "Type length of list: 5\n",
      "Type list item  1 : 7\n",
      "Type list item  2 : 6\n",
      "Type list item  3 : 4\n",
      "Type list item  4 : 6\n",
      "Type list item  5 : 3\n",
      "List Li  =  [7, 6, 4, 6, 3]\n",
      "Remove dupliacte from list Li =  [7, 6, 4, 3]\n",
      "Set S1 =  {3, 4, 6, 7}\n",
      "Max value of Set S1 =  7\n"
     ]
    }
   ],
   "source": [
    "n = int(input(\"Type length of list: \"))\n",
    "Li =[]\n",
    "for i in range(0,n):\n",
    "    print(\"Type list item \",(i+1),\":\",end=' ')\n",
    "    t = int(input())\n",
    "    Li.append(t)\n",
    "print(\"List Li  = \",Li)\n",
    "Li = list(dict.fromkeys(Li))\n",
    "print(\"Remove dupliacte from list Li = \",Li)\n",
    "S1 = set(Li)\n",
    "print(\"Set S1 = \",S1)\n",
    "print(\"Max value of Set S1 = \",max(S1))"
   ]
  },
  {
   "cell_type": "markdown",
   "id": "cc5ada94",
   "metadata": {},
   "source": [
    "15. Rename the key of a dictionary.\n",
    "Dict = { \"name\": \"Shakil\", \"age\":27, \"city\": “Berlin”, \"country\": \"Germany\" }\n",
    "Write a program to rename a key ‘country’ to a ‘region’ in the following dictionary."
   ]
  },
  {
   "cell_type": "code",
   "execution_count": 16,
   "id": "8fabe857",
   "metadata": {},
   "outputs": [
    {
     "name": "stdout",
     "output_type": "stream",
     "text": [
      "dictionary Dict =  {'name': 'Shakil', 'age': 27, 'city': 'Berlin', 'country': 'Germany'}\n",
      "dictionary after key change Dict =  {'name': 'Shakil', 'age': 27, 'city': 'Berlin', 'region': 'Germany'}\n"
     ]
    }
   ],
   "source": [
    "Dict = { \"name\": \"Shakil\", \"age\":27, \"city\": \"Berlin\", \"country\": \"Germany\" }\n",
    "print(\"dictionary Dict = \",Dict)\n",
    "Dict[\"region\"] = Dict[\"country\"] \n",
    "del Dict[\"country\"] \n",
    "print(\"dictionary after key change Dict = \",Dict)"
   ]
  },
  {
   "cell_type": "markdown",
   "id": "146f5b34",
   "metadata": {},
   "source": [
    "16. Creating a data frame using the list.\n",
    "num = [10,100,300] (column name is number)"
   ]
  },
  {
   "cell_type": "code",
   "execution_count": 17,
   "id": "9b106416",
   "metadata": {},
   "outputs": [
    {
     "name": "stdout",
     "output_type": "stream",
     "text": [
      "List num:  [10, 100, 300]\n"
     ]
    },
    {
     "data": {
      "text/html": [
       "<div>\n",
       "<style scoped>\n",
       "    .dataframe tbody tr th:only-of-type {\n",
       "        vertical-align: middle;\n",
       "    }\n",
       "\n",
       "    .dataframe tbody tr th {\n",
       "        vertical-align: top;\n",
       "    }\n",
       "\n",
       "    .dataframe thead th {\n",
       "        text-align: right;\n",
       "    }\n",
       "</style>\n",
       "<table border=\"1\" class=\"dataframe\">\n",
       "  <thead>\n",
       "    <tr style=\"text-align: right;\">\n",
       "      <th></th>\n",
       "      <th>number</th>\n",
       "    </tr>\n",
       "  </thead>\n",
       "  <tbody>\n",
       "    <tr>\n",
       "      <th>0</th>\n",
       "      <td>10</td>\n",
       "    </tr>\n",
       "    <tr>\n",
       "      <th>1</th>\n",
       "      <td>100</td>\n",
       "    </tr>\n",
       "    <tr>\n",
       "      <th>2</th>\n",
       "      <td>300</td>\n",
       "    </tr>\n",
       "  </tbody>\n",
       "</table>\n",
       "</div>"
      ],
      "text/plain": [
       "   number\n",
       "0      10\n",
       "1     100\n",
       "2     300"
      ]
     },
     "execution_count": 17,
     "metadata": {},
     "output_type": "execute_result"
    }
   ],
   "source": [
    "import pandas as pd\n",
    "num = [10,100,300]\n",
    "print(\"List num: \",num)\n",
    "df = pd.DataFrame(num,columns =['number'])\n",
    "df"
   ]
  },
  {
   "cell_type": "markdown",
   "id": "b3e7fd66",
   "metadata": {},
   "source": [
    "17. Change the value of a key in a given dictionary.\n",
    "Write a Python program to change ‘age’ to 28 in the following dictionary.\n",
    "Dict = { \"name\": \"Shakil\", \"age\":27, \"city\": “Berlin”, \"country\": \"Germany\" }"
   ]
  },
  {
   "cell_type": "code",
   "execution_count": 18,
   "id": "a230f6ae",
   "metadata": {},
   "outputs": [
    {
     "name": "stdout",
     "output_type": "stream",
     "text": [
      "dictionary Dict =  {'name': 'Shakil', 'age': 27, 'city': 'Berlin', 'country': 'Germany'}\n",
      "dictionary after value change Dict =  {'name': 'Shakil', 'age': 28, 'city': 'Berlin', 'country': 'Germany'}\n"
     ]
    }
   ],
   "source": [
    "Dict = { \"name\": \"Shakil\", \"age\":27, \"city\": \"Berlin\", \"country\": \"Germany\" }\n",
    "print(\"dictionary Dict = \",Dict)\n",
    "Dict[\"age\"] = 28\n",
    "print(\"dictionary after value change Dict = \",Dict)"
   ]
  }
 ],
 "metadata": {
  "kernelspec": {
   "display_name": "Python 3 (ipykernel)",
   "language": "python",
   "name": "python3"
  },
  "language_info": {
   "codemirror_mode": {
    "name": "ipython",
    "version": 3
   },
   "file_extension": ".py",
   "mimetype": "text/x-python",
   "name": "python",
   "nbconvert_exporter": "python",
   "pygments_lexer": "ipython3",
   "version": "3.9.12"
  }
 },
 "nbformat": 4,
 "nbformat_minor": 5
}
